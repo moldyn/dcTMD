{
 "cells": [
  {
   "cell_type": "code",
   "execution_count": null,
   "id": "9d7ff3ef-08d1-472d-8b79-9be029c27414",
   "metadata": {},
   "outputs": [],
   "source": [
    "import numpy as np\n",
    "from dcTMD.dcTMD import ForceEstimator\n",
    "from dcTMD.storing import load"
   ]
  },
  {
   "cell_type": "code",
   "execution_count": null,
   "id": "605252eb-a414-42db-9965-59144bdb7efc",
   "metadata": {},
   "outputs": [],
   "source": [
    "## load force\n",
    "# force = load('my_force_set')\n",
    "# Instantiate a ForceEstimator instance and fit it with the ForceSet\n",
    "# instance\n",
    "force_estimator = ForceEstimator(temperature=290.15)\n",
    "force_estimator"
   ]
  },
  {
   "cell_type": "code",
   "execution_count": null,
   "id": "7f002d6f-af3e-4465-acc7-593bec330fec",
   "metadata": {},
   "outputs": [],
   "source": []
  }
 ],
 "metadata": {
  "kernelspec": {
   "display_name": "Python 3 (ipykernel)",
   "language": "python",
   "name": "python3"
  },
  "language_info": {
   "codemirror_mode": {
    "name": "ipython",
    "version": 3
   },
   "file_extension": ".py",
   "mimetype": "text/x-python",
   "name": "python",
   "nbconvert_exporter": "python",
   "pygments_lexer": "ipython3",
   "version": "3.10.8"
  }
 },
 "nbformat": 4,
 "nbformat_minor": 5
}
