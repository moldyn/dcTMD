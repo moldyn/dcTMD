{
 "cells": [
  {
   "attachments": {},
   "cell_type": "markdown",
   "metadata": {},
   "source": [
    "## Command Line Interface\n",
    "\n",
    "Our package features a Python command-line interface (CLI) script called \"dcTMD\". \n",
    "\n",
    "The script loads the constraint force files, generates a work/force set, and calculates the mean work, dissipated work, free energy, and friction factor. The output is saved as a .npz and .dat file, and the work/force set can be saved separately using the \"--save_dataset\" option. Furthermore, with the --plot option an overview plot of the results in generated.\n",
    "\n",
    "The CLI also provides a verbose mode for debugging and error reporting.\n",
    "\n",
    "To get an overview over all modules simply run the following command in the shell."
   ]
  },
  {
   "cell_type": "code",
   "execution_count": 4,
   "metadata": {},
   "outputs": [
    {
     "name": "stdout",
     "output_type": "stream",
     "text": [
      "Usage: python -m dcTMD [OPTIONS]\n",
      "\n",
      "  ------------------------- |         dcTMD         |\n",
      "  ------------------------- Calculate free energy and friction for given\n",
      "  constraint force files.\n",
      "\n",
      "  Analysis tools for dissipation-corrected targeted molecular dynamics, which\n",
      "  is an enhanced sampling method to enforce rare events in biomolecular\n",
      "  systems. When publishing results gained with this python package, please\n",
      "  cite the following publications: (1) Tänzel, Victor and Jäger, Miriam and\n",
      "  Wolf, Steffen in preparation. (2) Wolf, Steffen, and Gerhard Stock.\n",
      "  \"Targeted molecular dynamics calculations of free energy profiles using a\n",
      "  nonequilibrium friction correction.\" Journal of chemical theory and\n",
      "  computation 14.12 (2018): 6175- 6182.\n",
      "\n",
      "Options:\n",
      "  -m, --mode [work|force]  Use either work or force autocovariance function to\n",
      "                           calculatedcTMD quantities.  [default: work;\n",
      "                           required]\n",
      "  -f, --file TEXT          Input: File containing list of all constraint force\n",
      "                           file namesor glob pattern e.g.\"*.xvg\" to generate a\n",
      "                           list of all constraint force files using\n",
      "                           glob.glob()  [required]\n",
      "  -o, --outname PATH       Output: Path/prefix of output names.\n",
      "  -T, --temperature FLOAT  Simulation temperature in K.  [required]\n",
      "  -vel, --velocity FLOAT   Pulling velocity in nm/ps.  [required]\n",
      "  --res INTEGER            Striding to reduce size of returned free energy and\n",
      "                           friction  [default: 1]\n",
      "  -s, --sigma FLOAT        Standard deviation of gaussian filter in nm.\n",
      "  --resamples INTEGER      Number of resamples used in optional bootstrapping.\n",
      "                           This is only available in mode work\n",
      "  -v, --verbose            Enable verbose mode.  [default: False]\n",
      "  -p, --plot               Plots free energy and smoothed friction.  [default:\n",
      "                           False]\n",
      "  -sd, --save_dataset      Save the Work/ForceSet class to file.  [default:\n",
      "                           False]\n",
      "  --help                   Show this message and exit.\n"
     ]
    }
   ],
   "source": [
    "%%bash\n",
    "python -m dcTMD"
   ]
  },
  {
   "cell_type": "code",
   "execution_count": null,
   "metadata": {},
   "outputs": [],
   "source": [
    "# Usage example:\n",
    "python -m dcTMD -f '*.xvg' -o path/to/output/name  -T 290.5 -v 0.001 --verbose --plot --save_dataset"
   ]
  }
 ],
 "metadata": {
  "kernelspec": {
   "display_name": "base",
   "language": "python",
   "name": "python3"
  },
  "language_info": {
   "codemirror_mode": {
    "name": "ipython",
    "version": 3
   },
   "file_extension": ".py",
   "mimetype": "text/x-python",
   "name": "python",
   "nbconvert_exporter": "python",
   "pygments_lexer": "ipython3",
   "version": "3.9.7"
  },
  "orig_nbformat": 4
 },
 "nbformat": 4,
 "nbformat_minor": 2
}
